{
 "cells": [
  {
   "cell_type": "code",
   "execution_count": 1,
   "id": "2300f133",
   "metadata": {},
   "outputs": [
    {
     "name": "stdout",
     "output_type": "stream",
     "text": [
      "Data loaded...\n"
     ]
    }
   ],
   "source": [
    "# Import the libraries\n",
    "import pandas as pd\n",
    "import os\n",
    "import matplotlib.pyplot as plt\n",
    "import seaborn as sns\n",
    "import plotly.express as px\n",
    "import ipywidgets as widgets\n",
    "from IPython.display import display\n",
    "import warnings\n",
    "\n",
    "# Ignore all warnings\n",
    "warnings.filterwarnings(\"ignore\")\n",
    "\n",
    "# load the data\n",
    "PATH = 'C:/Users/COMMANDCENTER/Desktop/coding/Datasets/Bees/'\n",
    "df = pd.read_csv(os.path.join(PATH,f'save_the_bees.csv'))\n",
    "\n",
    "# Create a usable time feature\n",
    "df['year'] = df['year'].astype(str)\n",
    "df['quarter'] = df['quarter'].astype(str)\n",
    "df['time'] = df['year'] + '-' + df['quarter']\n",
    "\n",
    "# Rename a column\n",
    "df.rename(columns={'other_pests_and_parasites': 'other_pests'}, inplace=True)\n",
    "\n",
    "print(\"Data loaded...\")"
   ]
  },
  {
   "cell_type": "code",
   "execution_count": 3,
   "id": "24989382",
   "metadata": {},
   "outputs": [
    {
     "data": {
      "application/vnd.jupyter.widget-view+json": {
       "model_id": "9d9f9512c2ac41e5b65c815a1210c5f6",
       "version_major": 2,
       "version_minor": 0
      },
      "text/plain": [
       "interactive(children=(Dropdown(description='Select Data:', options=('num_colonies', 'max_colonies', 'lost_colo…"
      ]
     },
     "metadata": {},
     "output_type": "display_data"
    }
   ],
   "source": [
    "# Dropdown widget\n",
    "dropdown_widget = widgets.Dropdown(\n",
    "    options=[col for col in df.columns if col not in ['time', 'state', 'state_code', 'year', 'quarter']], \n",
    "    description='Select Data:')\n",
    "\n",
    "# TimeSelector widget\n",
    "timeselector_widget = widgets.SelectionSlider(\n",
    "        options=df['time'].unique().tolist(),\n",
    "        value=df['time'].min(),\n",
    "        description='Select Time:',\n",
    "        style={'description_width': 'initial'}, \n",
    "        layout={'width': '80%'})\n",
    "\n",
    "def update_plot(selected_data, selected_time):\n",
    "    filtered_df = df[df['time'] == selected_time]\n",
    "    fig = px.choropleth(\n",
    "        filtered_df,\n",
    "        locations='state_code',\n",
    "        locationmode=\"USA-states\",\n",
    "        color=selected_data,\n",
    "        color_continuous_scale=\"Viridis_r\",\n",
    "        scope=\"usa\",\n",
    "        animation_frame='time')\n",
    "    fig.show() \n",
    "\n",
    "# Put it all together\n",
    "interactive_widget = widgets.interactive(\n",
    "    update_plot,\n",
    "    selected_data=dropdown_widget,\n",
    "    selected_time=timeselector_widget)\n",
    "\n",
    "display(interactive_widget)"
   ]
  }
 ],
 "metadata": {
  "kernelspec": {
   "display_name": "Python 3 (ipykernel)",
   "language": "python",
   "name": "python3"
  },
  "language_info": {
   "codemirror_mode": {
    "name": "ipython",
    "version": 3
   },
   "file_extension": ".py",
   "mimetype": "text/x-python",
   "name": "python",
   "nbconvert_exporter": "python",
   "pygments_lexer": "ipython3",
   "version": "3.10.9"
  }
 },
 "nbformat": 4,
 "nbformat_minor": 5
}
